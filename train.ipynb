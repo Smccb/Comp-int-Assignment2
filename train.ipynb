{
 "cells": [
  {
   "cell_type": "code",
   "execution_count": null,
   "metadata": {},
   "outputs": [],
   "source": [
    "\n",
    "%pip install -U scikit-learn"
   ]
  },
  {
   "cell_type": "code",
   "execution_count": null,
   "metadata": {},
   "outputs": [],
   "source": [
    "# Import the necessary libraries\n",
    "from sklearn.preprocessing import MinMaxScaler\n",
    "from sklearn.metrics import mean_squared_error\n",
    "from keras.models import Sequential\n",
    "from keras.layers import Dense\n",
    "from keras.optimizers import SGD\n",
    "from keras.optimizers import Adam\n",
    "from keras.callbacks import CSVLogger\n",
    "from keras import backend\n",
    "from numpy import asarray\n",
    "from matplotlib import pyplot\n",
    "import math\n",
    "import pylab\n",
    "import random\n",
    "import numpy as np\n",
    "import pandas as pd\n",
    "import time\n",
    "import random\n",
    "import csv"
   ]
  },
  {
   "cell_type": "code",
   "execution_count": null,
   "metadata": {},
   "outputs": [],
   "source": [
    "# Globals and Funcs\n",
    "\n",
    "# Path to training file\n",
    "TRAIN_FILE = \"data/train.csv\"\n",
    "# Path to model file - weights will be saved here\n",
    "MODEL_FILE = \"data/sin-model.keras\"\n",
    "# Model log file\n",
    "LOG_FILE = 'data/training-log.csv'\n",
    "\n",
    "# Number of Epochs to train for 1 (Epoch = 1 presentation of the training data)\n",
    "EPOCHS = 150\n",
    "\n",
    "# Setup the figure size for plots\n",
    "pylab.rcParams['figure.figsize'] = (13.0, 5.0)\n",
    "\n",
    "# Define the lists that will hold the training data\n",
    "train_x = [] # x-axis values\n",
    "train_y = [] # y-axis values"
   ]
  },
  {
   "cell_type": "code",
   "execution_count": null,
   "metadata": {},
   "outputs": [],
   "source": [
    "# Load the training data from file\n",
    "with open(TRAIN_FILE, 'r') as csvfile:\n",
    "    input_data = csv.reader(csvfile, delimiter=',')\n",
    "    for row in input_data:\n",
    "        train_x.append(float(row[0]))\n",
    "        train_y.append(float(row[1]))\n",
    "        \n",
    "# Plot the training data\n",
    "pyplot.scatter(train_x, train_y, label='Training data')\n",
    "pyplot.title('math.sin(x) * math.sin(0.4 * x) * math.sin(2 * x)')\n",
    "pyplot.xlabel('Input Variable (x)')\n",
    "pyplot.ylabel('Output Variable (y)')\n",
    "pyplot.legend()\n",
    "pyplot.show()"
   ]
  },
  {
   "cell_type": "code",
   "execution_count": null,
   "metadata": {},
   "outputs": [],
   "source": [
    "# Prepare the training data for presentation to the neural network\n",
    "\n",
    "# Convert the lists to numpy arrays, helps with manipulation\n",
    "train_x = asarray(train_x)\n",
    "train_y = asarray(train_y)\n",
    "# Print the min and max just for info\n",
    "print(\"Min Max before scaling...\")\n",
    "print(train_x.min(), train_x.max(), train_y.min(), train_y.max())\n",
    "\n",
    "# Reshape arrays into into rows and cols\n",
    "# we need to do this to present info to the network\n",
    "train_x = train_x.reshape((len(train_x), 1))\n",
    "train_y = train_y.reshape((len(train_y), 1))\n",
    "\n",
    "# Scale the training data to values between 0 and 1\n",
    "# this helps the network to train and stops any one \n",
    "# value from dominating the input\n",
    "scale_x = MinMaxScaler()\n",
    "scale_y = MinMaxScaler()\n",
    "train_x = scale_x.fit_transform(train_x)\n",
    "train_y = scale_y.fit_transform(train_y)\n",
    "\n",
    "# Print the min and max just for info\n",
    "print(\"Min Max after scaling...\")\n",
    "print(train_x.min(), train_x.max(), train_y.min(), train_y.max())"
   ]
  },
  {
   "cell_type": "code",
   "execution_count": null,
   "metadata": {},
   "outputs": [],
   "source": [
    "# Design the neural network model #fix this section\n",
    "\n",
    "# Clear any exiting network models\n",
    "backend.clear_session()\n",
    "# Create a standard feedforward layered network\n",
    "model = Sequential()\n",
    "\n",
    "#################################################################################################################\n",
    "# Minimal working neural network\n",
    "model.add(Dense(16, input_dim=1, activation='relu', kernel_initializer='he_uniform'))\n",
    "model.add(Dense(16, activation='relu', kernel_initializer='he_uniform'))\n",
    "model.add(Dense(16, activation='relu', kernel_initializer='he_uniform'))\n",
    "\n",
    "# Create the output layer with a single node\n",
    "model.add(Dense(1))                                                                                                     #update here\n",
    "\n",
    "# Choice of loss function/training algorithm SGD (Standard Gradient Descent OR ADAM)\n",
    "\n",
    "# Setup the learning algorithm loss function - Standard Gradient Descent (Backpop) with learning rate and momentum\n",
    "#opt = SGD(learning_rate=0.01, momentum=0.01)                                                                                     #update here\n",
    "\n",
    "# Setup the learning algorithm loss function - Adam with learning rate\n",
    "opt = Adam(learning_rate=0.01)                                                                                                #update here                                                                                              \n",
    "\n",
    "##################################################################################################################\n",
    "\n",
    "# Compile the model - this builds the model and makes it ready for use\n",
    "model.compile(loss='mse', optimizer=opt, metrics=['accuracy'])\n",
    "# Setup a log file for the model metrics error and accuracy\n",
    "csv_logger = CSVLogger(LOG_FILE)\n",
    "# Start a timer to time the training\n",
    "start = time.time()\n",
    "print(\"Training, please wait.........\")\n",
    "# Fit the model - train the network on the training data\n",
    "model.fit(train_x, train_y, epochs=EPOCHS, verbose=0, callbacks=[csv_logger])\n",
    "end = time.time() - start\n",
    "print(\"Training finished...in \", end, \" seconds.\")\n",
    "# Save the model to file\n",
    "model.save(MODEL_FILE)"
   ]
  },
  {
   "cell_type": "code",
   "execution_count": null,
   "metadata": {
    "scrolled": true
   },
   "outputs": [],
   "source": [
    "# Load the training log file and graph the reduction in error/loss\n",
    "training_df = pd.read_csv(LOG_FILE)\n",
    "# Plot the model error during training\n",
    "ax = training_df['loss'].plot(title='Training loss MSE', figsize=(13.0, 4.0))\n",
    "ax.set_xlabel('Epoch')\n",
    "ax.set_ylabel('Loss')\n",
    "pyplot.savefig(\"figs/training_mse.pdf\")"
   ]
  },
  {
   "cell_type": "code",
   "execution_count": null,
   "metadata": {},
   "outputs": [],
   "source": [
    "# Let's see how the training went by plotting the predications based on the training data.\n",
    "# So we are going to get the network to predict the y values form the x values\n",
    "pred_y = model.predict(train_x)\n",
    "\n",
    "# report model error\n",
    "print('Mean Squared Error (MSE): %.6f' % mean_squared_error(pred_y, train_y))\n",
    "\n",
    "\n",
    "# We need to inverse the scaling to plot the data\n",
    "train_x_final = scale_x.inverse_transform(train_x)\n",
    "train_y_final = scale_y.inverse_transform(train_y)\n",
    "# The predicted y values will need to be scaled back to 0 - 10\n",
    "pred_y_final = scale_y.inverse_transform(pred_y)\n",
    "\n",
    "# plot x vs y\n",
    "pyplot.scatter(train_x_final, train_y_final, label='Training data')\n",
    "# plot x vs predicated y\n",
    "pyplot.scatter(train_x_final, pred_y_final, label='Predicted - pred_y')\n",
    "pyplot.title('Input (x) versus Output (y)')\n",
    "pyplot.xlabel('Input Variable (x)')\n",
    "pyplot.ylabel('Output Variable (y)')\n",
    "pyplot.legend()\n",
    "pyplot.savefig(\"figs/sinwave_result_train.jpg\")\n",
    "pyplot.show()"
   ]
  },
  {
   "cell_type": "code",
   "execution_count": null,
   "metadata": {},
   "outputs": [],
   "source": []
  }
 ],
 "metadata": {
  "kernelspec": {
   "display_name": "Python 3 (ipykernel)",
   "language": "python",
   "name": "python3"
  },
  "language_info": {
   "codemirror_mode": {
    "name": "ipython",
    "version": 3
   },
   "file_extension": ".py",
   "mimetype": "text/x-python",
   "name": "python",
   "nbconvert_exporter": "python",
   "pygments_lexer": "ipython3",
   "version": "3.11.0"
  }
 },
 "nbformat": 4,
 "nbformat_minor": 4
}
